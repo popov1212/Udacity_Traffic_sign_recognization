{
 "cells": [
  {
   "cell_type": "code",
   "execution_count": 4,
   "metadata": {},
   "outputs": [
    {
     "name": "stdout",
     "output_type": "stream",
     "text": [
      "[4 6]\n",
      "[[4 6]]\n"
     ]
    }
   ],
   "source": [
    "import numpy as np\n",
    "x = np.array([[1, 2], [3, 4]])\n",
    "a = np.sum(x,axis = 0)\n",
    "aa = np.sum(x,axis = 0,keepdims = True)\n",
    "print(a)\n",
    "print(aa)"
   ]
  },
  {
   "cell_type": "code",
   "execution_count": 5,
   "metadata": {},
   "outputs": [
    {
     "name": "stdout",
     "output_type": "stream",
     "text": [
      "[[3]\n",
      " [7]]\n"
     ]
    }
   ],
   "source": [
    "x = np.array([[1, 2], [3, 4]])\n",
    "a = np.sum(x,axis = 1,keepdims = True)\n",
    "print(a)"
   ]
  },
  {
   "cell_type": "code",
   "execution_count": 12,
   "metadata": {},
   "outputs": [
    {
     "name": "stdout",
     "output_type": "stream",
     "text": [
      "[[[2 4]\n",
      "  [6 8]]]\n",
      "**********\n",
      "[[[4 6]]\n",
      "\n",
      " [[4 6]]]\n",
      "********\n",
      "[[[3]\n",
      "  [7]]\n",
      "\n",
      " [[3]\n",
      "  [7]]]\n"
     ]
    }
   ],
   "source": [
    "x = np.array([[[1, 2], [3, 4]],[[1, 2],[3, 4]]])\n",
    "a   = np.sum(x,axis = 0,keepdims = True)\n",
    "aa  = np.sum(x,axis = 1,keepdims = 1)\n",
    "aaa = np.sum(x,axis = 2,keepdims = 2)\n",
    "print(a)\n",
    "print(\"**********\")\n",
    "print(aa)\n",
    "print(\"********\")\n",
    "print(aaa)"
   ]
  }
 ],
 "metadata": {
  "kernelspec": {
   "display_name": "Python 3",
   "language": "python",
   "name": "python3"
  },
  "language_info": {
   "codemirror_mode": {
    "name": "ipython",
    "version": 3
   },
   "file_extension": ".py",
   "mimetype": "text/x-python",
   "name": "python",
   "nbconvert_exporter": "python",
   "pygments_lexer": "ipython3",
   "version": "3.6.6"
  }
 },
 "nbformat": 4,
 "nbformat_minor": 2
}
